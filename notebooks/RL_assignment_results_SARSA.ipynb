{
  "cells": [
    {
      "cell_type": "markdown",
      "id": "02944396",
      "metadata": {
        "id": "02944396"
      },
      "source": [
        "# Assignment"
      ]
    },
    {
      "cell_type": "code",
      "execution_count": 1,
      "id": "c9652bc6",
      "metadata": {
        "id": "c9652bc6"
      },
      "outputs": [],
      "source": [
        "# Import \n",
        "\n",
        "import numpy as np\n",
        "import matplotlib.pyplot as plt\n",
        "from degree_freedom_queen import *\n",
        "from degree_freedom_king1 import *\n",
        "from degree_freedom_king2 import *\n",
        "from generate_game import *\n",
        "from Chess_env import *\n",
        "\n",
        "\n",
        "size_board = 4"
      ]
    },
    {
      "cell_type": "markdown",
      "id": "0bceca7c",
      "metadata": {
        "id": "0bceca7c"
      },
      "source": [
        "## The Environment\n",
        "\n",
        "You can find the environment in the file Chess_env, which contains the class Chess_env. To define an object, you need to provide the board size considered as input. In our example, size_board=4. \n",
        "Chess_env is composed by the following methods:\n",
        "\n",
        "1. Initialise_game. The method initialises an episode by placing the three pieces considered (Agent's king and queen, enemy's king) in the chess board. The outputs of the method are described below in order.\n",
        "\n",
        "     S $\\;$ A matrix representing the board locations filled with 4 numbers: 0, no piece in that position; 1, location of the \n",
        "     agent's king; 2 location of the queen; 3 location of the enemy king.\n",
        "     \n",
        "     X $\\;$ The features, that is the input to the neural network. See the assignment for more information regarding the            definition of the features adopted. To personalise this, go into the Features method of the class Chess_env() and change        accordingly.\n",
        "     \n",
        "     allowed_a $\\;$ The allowed actions that the agent can make. The agent is moving a king, with a total number of 8                possible actions, and a queen, with a total number of $(board_{size}-1)\\times 8$ actions. The total number of possible actions correspond      to the sum of the two, but not all actions are allowed in a given position (movements to locations outside the borders or      against chess rules). Thus, the variable allowed_a is a vector that is one (zero) for an action that the agent can (can't)      make. Be careful, apply the policy considered on the actions that are allowed only.\n",
        "     \n",
        "\n",
        "2. OneStep. The method performs a one step update of the system. Given as input the action selected by the agent, it updates the chess board by performing that action and the response of the enemy king (which is a random allowed action in the settings considered). The first three outputs are the same as for the Initialise_game method, but the variables are computed for the position reached after the update of the system. The fourth and fifth outputs are:\n",
        "\n",
        "     R $\\;$ The reward. To change this, look at the OneStep method of the class where the rewards are set.\n",
        "     \n",
        "     Done $\\;$ A variable that is 1 if the episode has ended (checkmate or draw).\n",
        "     \n",
        "     \n",
        "3. Features. Given the chessboard position, the method computes the features.\n",
        "\n",
        "This information and a quick analysis of the class should be all you need to get going. The other functions that the class exploits are uncommented and constitute an example on how not to write a python code. You can take a look at them if you want, but it is not necessary.\n",
        "\n",
        "\n",
        "\n",
        "\n"
      ]
    },
    {
      "cell_type": "code",
      "execution_count": 2,
      "id": "9593a299",
      "metadata": {
        "id": "9593a299"
      },
      "outputs": [],
      "source": [
        "## INITIALISE THE ENVIRONMENT\n",
        "\n",
        "env=Chess_Env(size_board)"
      ]
    },
    {
      "cell_type": "code",
      "execution_count": null,
      "id": "bbc05bfd",
      "metadata": {
        "colab": {
          "base_uri": "https://localhost:8080/"
        },
        "id": "bbc05bfd",
        "outputId": "32aa706d-b5d2-4c91-f8bd-945b299021f1"
      },
      "outputs": [
        {
          "name": "stdout",
          "output_type": "stream",
          "text": [
            "[[0 0 0 0]\n",
            " [3 0 1 0]\n",
            " [0 0 0 0]\n",
            " [0 2 0 0]]\n",
            "check?  0\n",
            "dofk2  1\n",
            "\n",
            "[[3 0 0 0]\n",
            " [0 0 1 0]\n",
            " [0 2 0 0]\n",
            " [0 0 0 0]]\n",
            "0  0\n",
            "check?  0\n",
            "dofk2  0\n",
            "\n",
            "[[3 0 0 0]\n",
            " [0 0 0 0]\n",
            " [0 2 0 1]\n",
            " [0 0 0 0]]\n",
            "0.0  1\n",
            "check?  0\n",
            "dofk2  0\n"
          ]
        }
      ],
      "source": [
        "## PRINT 5 STEPS OF AN EPISODE CONSIDERING A RANDOM AGENT\n",
        "\n",
        "S,X,allowed_a=env.Initialise_game()                       # INTIALISE GAME\n",
        "\n",
        "print(S)                                                  # PRINT CHESS BOARD (SEE THE DESCRIPTION ABOVE)\n",
        "\n",
        "print('check? ',env.check)                                # PRINT VARIABLE THAT TELLS IF ENEMY KING IS IN CHECK (1) OR NOT (0)\n",
        "print('dofk2 ',np.sum(env.dfk2_constrain).astype(int))    # PRINT THE NUMBER OF LOCATIONS THAT THE ENEMY KING CAN MOVE TO\n",
        "\n",
        "\n",
        "for i in range(5):\n",
        "    \n",
        "    a,_=np.where(allowed_a==1)                  # FIND WHAT THE ALLOWED ACTIONS ARE\n",
        "    a_agent=np.random.permutation(a)[0]         # MAKE A RANDOM ACTION\n",
        "\n",
        "    S,X,allowed_a,R,Done=env.OneStep(a_agent)   # UPDATE THE ENVIRONMENT\n",
        "    \n",
        "    \n",
        "    ## PRINT CHESS BOARD AND VARIABLES\n",
        "    print('')\n",
        "    print(S)\n",
        "    print(R,'', Done)\n",
        "    print('check? ',env.check)\n",
        "    print('dofk2 ',np.sum(env.dfk2_constrain).astype(int))\n",
        "    \n",
        "    \n",
        "    # TERMINATE THE EPISODE IF Done=True (DRAW OR CHECKMATE)\n",
        "    if Done:\n",
        "        break\n",
        "        \n"
      ]
    },
    {
      "cell_type": "code",
      "execution_count": null,
      "id": "fc16cf7b",
      "metadata": {
        "colab": {
          "base_uri": "https://localhost:8080/"
        },
        "id": "fc16cf7b",
        "outputId": "e02a6504-418a-4926-d7da-8a25d035fc71"
      },
      "outputs": [
        {
          "name": "stdout",
          "output_type": "stream",
          "text": [
            "Random_Agent, Average reward: 0.202 Number of steps:  6.737\n"
          ]
        }
      ],
      "source": [
        "# PERFORM N_episodes=1000 EPISODES MAKING RANDOM ACTIONS AND COMPUTE THE AVERAGE REWARD AND NUMBER OF MOVES \n",
        "\n",
        "S,X,allowed_a=env.Initialise_game()\n",
        "N_episodes=1000\n",
        "\n",
        "# VARIABLES WHERE TO SAVE THE FINAL REWARD IN AN EPISODE AND THE NUMBER OF MOVES \n",
        "R_save_random = np.zeros([N_episodes, 1])\n",
        "N_moves_save_random = np.zeros([N_episodes, 1])\n",
        "\n",
        "for n in range(N_episodes):\n",
        "    \n",
        "    S,X,allowed_a=env.Initialise_game()     # INITIALISE GAME\n",
        "    Done=0                                  # SET Done=0 AT THE BEGINNING\n",
        "    i=1                                     # COUNTER FOR THE NUMBER OF ACTIONS (MOVES) IN AN EPISODE\n",
        "    \n",
        "    # UNTIL THE EPISODE IS NOT OVER...(Done=0)\n",
        "    while Done==0:\n",
        "        \n",
        "        # SAME AS THE CELL BEFORE, BUT SAVING THE RESULTS WHEN THE EPISODE TERMINATES \n",
        "        \n",
        "        a,_=np.where(allowed_a==1)\n",
        "        a_agent=np.random.permutation(a)[0]\n",
        "\n",
        "        S,X,allowed_a,R,Done=env.OneStep(a_agent)\n",
        "        \n",
        "        \n",
        "        if Done:\n",
        "            \n",
        "            R_save_random[n]=np.copy(R)\n",
        "            N_moves_save_random[n]=np.copy(i)\n",
        "\n",
        "            break\n",
        "\n",
        "        i=i+1                               # UPDATE THE COUNTER\n",
        "\n",
        "\n",
        "\n",
        "# AS YOU SEE, THE PERFORMANCE OF A RANDOM AGENT ARE NOT GREAT, SINCE THE MAJORITY OF THE POSITIONS END WITH A DRAW \n",
        "# (THE ENEMY KING IS NOT IN CHECK AND CAN'T MOVE)\n",
        "\n",
        "print('Random_Agent, Average reward:',np.mean(R_save_random),'Number of steps: ',np.mean(N_moves_save_random))\n",
        "\n"
      ]
    },
    {
      "cell_type": "code",
      "execution_count": 31,
      "id": "ece20429",
      "metadata": {
        "id": "ece20429"
      },
      "outputs": [],
      "source": [
        "np.random.seed(1)\n",
        "\n",
        "S,X,allowed_a=env.Initialise_game()\n",
        "N_a=np.shape(allowed_a)[0]   # TOTAL NUMBER OF POSSIBLE ACTIONS (OUTPUT)\n",
        "\n",
        "N_in=np.shape(X)[0]    ## INPUT SIZE\n",
        "N_h=200                ## NUMBER OF HIDDEN NODES\n",
        "\n",
        "# initialization of the network\n",
        "\n",
        "W1 = np.random.uniform(-1,1,(N_h, N_in))/(N_in+N_h)\n",
        "W2 = np.random.uniform(-1,1,(N_a, N_h))/(N_in+N_h)\n",
        "\n",
        "bias_W1 = np.zeros((N_h,))\n",
        "bias_W2 = np.zeros((N_a,))\n",
        "\n",
        "# HYPERPARAMETERS SUGGESTED (FOR A GRID SIZE OF 4)\n",
        "\n",
        "epsilon_0 = 0.2     # STARTING VALUE OF EPSILON FOR THE EPSILON-GREEDY POLICY\n",
        "beta = 0.00005      # THE PARAMETER SETS HOW QUICKLY THE VALUE OF EPSILON IS DECAYING (SEE epsilon_f BELOW)\n",
        "gamma = 0.85        # THE DISCOUNT FACTOR\n",
        "eta = 0.0035        # THE LEARNING RATE\n",
        "\n",
        "N_episodes = 100000 # THE NUMBER OF GAMES TO BE PLAYED \n",
        "\n",
        "# SAVING VARIABLES\n",
        "R_save = np.zeros([N_episodes, 1])\n",
        "N_moves_save = np.zeros([N_episodes, 1])\n"
      ]
    },
    {
      "cell_type": "code",
      "execution_count": 32,
      "id": "cc5bf96c",
      "metadata": {
        "id": "cc5bf96c"
      },
      "outputs": [],
      "source": [
        "# define the epsilon - greedy policy\n",
        "\n",
        "def EpsilonGreedy_Policy(Qvalues, epsilon):\n",
        "    \n",
        "    N_a=np.shape(Qvalues)[0]\n",
        "\n",
        "    rand_value=np.random.uniform(0,1)\n",
        "\n",
        "    rand_a=rand_value<epsilon\n",
        "\n",
        "    if rand_a==True:\n",
        "        # random action with epsilon\n",
        "        a=np.random.randint(0,N_a)\n",
        "\n",
        "    else:\n",
        "        # Greedy with probability epsilon\n",
        "        a=np.argmax(Qvalues)\n",
        "            \n",
        "    return a"
      ]
    },
    {
      "cell_type": "code",
      "execution_count": 33,
      "id": "e6ba1f84",
      "metadata": {
        "id": "e6ba1f84",
        "colab": {
          "base_uri": "https://localhost:8080/"
        },
        "outputId": "ec7354e9-5a9d-4aa2-e4d4-d9f577b69b35"
      },
      "outputs": [
        {
          "output_type": "stream",
          "name": "stdout",
          "text": [
            "Episode  0\n",
            "Episode  5000\n",
            "Episode  10000\n",
            "Episode  15000\n",
            "Episode  20000\n",
            "Episode  25000\n",
            "Episode  30000\n",
            "Episode  35000\n",
            "Episode  40000\n",
            "Episode  45000\n",
            "Episode  50000\n",
            "Episode  55000\n",
            "Episode  60000\n",
            "Episode  65000\n",
            "Episode  70000\n",
            "Episode  75000\n",
            "Episode  80000\n",
            "Episode  85000\n",
            "Episode  90000\n",
            "Episode  95000\n"
          ]
        }
      ],
      "source": [
        "# SARSA - Training\n",
        "\n",
        "# the training loop is run N_episodes times\n",
        "for n in range(N_episodes):\n",
        "    \n",
        "    if n%5000 == 0:\n",
        "        print(\"Episode \", n)\n",
        "\n",
        "    epsilon_f = epsilon_0 / (1 + beta * n)   ## DECAYING EPSILON\n",
        "    Done=0                                   ## SET DONE TO ZERO (BEGINNING OF THE EPISODE)\n",
        "    i = 1                                    ## COUNTER FOR NUMBER OF ACTIONS\n",
        "    \n",
        "    # get the initial state of the environment (initial board position)\n",
        "    S,X,allowed_a=env.Initialise_game()   \n",
        "    \n",
        "    # network forward pass: the Q values are calculated as the output of the network feeded with\n",
        "    # the features vector. The network has one hidden layer with 200 units and Relu as activation\n",
        "    # function\n",
        "    x0 = X\n",
        "    h1 = np.dot(W1,x0) + bias_W1\n",
        "    x1 = np.maximum(h1, 0)\n",
        "    h2 = np.dot(W2,x1) + bias_W2\n",
        "    x2 = np.maximum(h2, 0)\n",
        "\n",
        "    # pick an action from the allowed ones following the epsilon-greedy policy\n",
        "    allowed_a_index,_=np.where(allowed_a==1)\n",
        "    a = EpsilonGreedy_Policy(x2[allowed_a_index], epsilon_f) \n",
        "    taken_action = allowed_a_index[a]\n",
        "    \n",
        "    # while there is no check mate or draw\n",
        "    while Done==0:                           \n",
        "        \n",
        "        Q_a = x2[taken_action]\n",
        "                \n",
        "        # take the chosen action: observe new values\n",
        "        S_next,X_next,allowed_a_next,R,Done=env.OneStep(taken_action)\n",
        "        \n",
        "        # if there is check mate or draw\n",
        "        if Done==1:\n",
        "\n",
        "            # update network parameters only for the action neuron\n",
        "            delta = R - Q_a\n",
        "\n",
        "            # The parameters W2 and b2 are updated only for the taken action. For that, the filter\n",
        "            #[taken_action] is applied\n",
        "            dW2 = delta*np.heaviside(h2[taken_action], 0)*x1\n",
        "            dW1 = np.outer(delta*W2[taken_action,:]*np.heaviside(h1, 0), X)\n",
        "\n",
        "            W2[taken_action,:] = W2[taken_action,:] + eta*dW2\n",
        "            W1 = W1 + eta*dW1\n",
        "            \n",
        "            bias_W2[taken_action] = bias_W2[taken_action] + eta*delta*np.heaviside(h2[taken_action], 0)\n",
        "            bias_W1 = bias_W1 + eta*delta*W2[taken_action,:]*np.heaviside(h1, 0)\n",
        "            \n",
        "            # save the reward (check mate = 1; draw = 0) and the steps of the episode\n",
        "            R_save[n] = np.copy(R)\n",
        "            N_moves_save[n] = np.copy(i)\n",
        "            \n",
        "            break\n",
        "        \n",
        "        \n",
        "        # if the game is not over\n",
        "        else:\n",
        "            \n",
        "            # network forward pass to calculate the next Q values\n",
        "            x0_next = X_next\n",
        "            h1_next = np.dot(W1,x0_next) + bias_W1\n",
        "            x1_next = np.maximum(h1_next, 0)\n",
        "            h2_next = np.dot(W2,x1_next) + bias_W2\n",
        "            x2_next = np.maximum(h2_next, 0)\n",
        "            \n",
        "            # pick a new action with epsilon-greedy policy\n",
        "            allowed_a_index,_=np.where(allowed_a_next==1)\n",
        "            a = EpsilonGreedy_Policy(x2_next[allowed_a_index],epsilon_f) \n",
        "            taken_action2 = allowed_a_index[a]\n",
        "            Q_a2 = x2_next[taken_action2]\n",
        "\n",
        "            #update network parameters only for the action neuron (SARSA)\n",
        "            delta = R + gamma*Q_a2 - Q_a\n",
        "            \n",
        "            dW2 = delta*np.heaviside(h2[taken_action], 0)*x1\n",
        "            dW1 = np.outer(delta*W2[taken_action,:]*np.heaviside(h1, 0), X)\n",
        "\n",
        "            W2[taken_action,:] = W2[taken_action,:] + eta*dW2\n",
        "            W1 = W1 + eta*dW1\n",
        "            \n",
        "            bias_W2[taken_action] = bias_W2[taken_action] + eta*delta*np.heaviside(h2[taken_action], 0)\n",
        "            bias_W1 = bias_W1 + eta*delta*W2[taken_action,:]*np.heaviside(h1, 0)\n",
        "            \n",
        "            \n",
        "        # save values for the next step iteration   \n",
        "        S=np.copy(S_next)\n",
        "        X=np.copy(X_next)\n",
        "        allowed_a=np.copy(allowed_a_next)\n",
        "        taken_action = np.copy(taken_action2)\n",
        "        h1 = np.copy(h1_next)\n",
        "        x1 = np.copy(x1_next)\n",
        "        h2 = np.copy(h2_next)\n",
        "        x2 = np.copy(x2_next)\n",
        "        \n",
        "        i += 1  # uptate the number of steps in the episode\n",
        "    \n",
        "    "
      ]
    },
    {
      "cell_type": "code",
      "execution_count": 34,
      "id": "b288ad57",
      "metadata": {
        "colab": {
          "base_uri": "https://localhost:8080/"
        },
        "id": "b288ad57",
        "outputId": "28fc1918-b115-4afb-cda8-0add8b9ca9cd"
      },
      "outputs": [
        {
          "output_type": "stream",
          "name": "stdout",
          "text": [
            "Total:\n",
            "Average reward: 0.78039 Number of steps:  5.3225\n",
            "In the last 1000 episodes:\n",
            "Average reward: 0.973 Number of steps:  2.81\n"
          ]
        }
      ],
      "source": [
        "print('Total:')\n",
        "print('Average reward:',np.mean(R_save[:]),'Number of steps: ',np.mean(N_moves_save[:]))\n",
        "print('In the last 1000 episodes:')\n",
        "print('Average reward:',np.mean(R_save[99000:]),'Number of steps: ',np.mean(N_moves_save[99000:]))"
      ]
    },
    {
      "cell_type": "code",
      "execution_count": 35,
      "id": "l7OqBNd1CoBU",
      "metadata": {
        "colab": {
          "base_uri": "https://localhost:8080/",
          "height": 286
        },
        "id": "l7OqBNd1CoBU",
        "outputId": "3cebc6e6-61af-40ca-c261-aef84b679d00"
      },
      "outputs": [
        {
          "output_type": "display_data",
          "data": {
            "text/plain": [
              "<Figure size 432x288 with 1 Axes>"
            ],
            "image/png": "[encoded data removed]"
          },
          "metadata": {
            "needs_background": "light"
          }
        }
      ],
      "source": [
        "import pandas as pd\n",
        "import matplotlib.pyplot as plt\n",
        "\n",
        "plt.xlim([0, 100000])\n",
        "plt.ylim([0, 1])\n",
        "plt.rcParams['axes.linewidth'] = 0.75\n",
        " \n",
        "# dataframe\n",
        "n_moves = pd.DataFrame({'Reward': list(R_save)})\n",
        " \n",
        "ema = n_moves.ewm(com=400).mean()\n",
        " \n",
        "\n",
        "plt.plot(ema, label=\"Reward (SARSA)\")\n",
        "plt.xlabel(\"Episodes\", fontsize=12)\n",
        "plt.ylabel(\"Reward\", fontsize=12)\n",
        "plt.legend()\n",
        "plt.savefig('reward_SARSA_100000.pdf')"
      ]
    },
    {
      "cell_type": "code",
      "execution_count": 36,
      "id": "3857920b",
      "metadata": {
        "colab": {
          "base_uri": "https://localhost:8080/",
          "height": 282
        },
        "id": "3857920b",
        "outputId": "4f3ed24d-79d7-430f-d10f-e72274af4d2d"
      },
      "outputs": [
        {
          "output_type": "display_data",
          "data": {
            "text/plain": [
              "<Figure size 432x288 with 1 Axes>"
            ],
            "image/png": "[encoded data removed]"
          },
          "metadata": {
            "needs_background": "light"
          }
        }
      ],
      "source": [
        "# dataframe\n",
        "n_moves = pd.DataFrame({'N_moves_save': list(N_moves_save)})\n",
        "\n",
        "plt.xlim([0, 100000])\n",
        "plt.ylim([0, 13])\n",
        " \n",
        "ema = n_moves.ewm(com=400).mean()\n",
        " \n",
        "\n",
        "plt.plot(ema, label=\"Steps (SARSA)\")\n",
        "plt.xlabel(\"Episodes\", fontsize=12)\n",
        "plt.ylabel(\"Steps\", fontsize=12)\n",
        "plt.legend()\n",
        "plt.savefig('steps_SARSA_100000.pdf')"
      ]
    }
  ],
  "metadata": {
    "accelerator": "TPU",
    "colab": {
      "name": "RL_assignment_results_SARSA.ipynb",
      "provenance": []
    },
    "kernelspec": {
      "display_name": "Python 3",
      "language": "python",
      "name": "python3"
    },
    "language_info": {
      "codemirror_mode": {
        "name": "ipython",
        "version": 3
      },
      "file_extension": ".py",
      "mimetype": "text/x-python",
      "name": "python",
      "nbconvert_exporter": "python",
      "pygments_lexer": "ipython3",
      "version": "3.8.8"
    }
  },
  "nbformat": 4,
  "nbformat_minor": 5
}
